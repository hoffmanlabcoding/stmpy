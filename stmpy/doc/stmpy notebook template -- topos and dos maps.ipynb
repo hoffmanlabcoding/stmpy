{
 "cells": [
  {
   "cell_type": "markdown",
   "metadata": {},
   "source": [
    "# Import necessary libraries"
   ]
  },
  {
   "cell_type": "code",
   "execution_count": 1,
   "metadata": {
    "ExecuteTime": {
     "end_time": "2023-05-25T15:18:21.572656Z",
     "start_time": "2023-05-25T15:18:21.566588Z"
    }
   },
   "outputs": [
    {
     "name": "stdout",
     "output_type": "stream",
     "text": [
      "Populating the interactive namespace from numpy and matplotlib\n"
     ]
    }
   ],
   "source": [
    "import stmpy\n",
    "import stmpy.tools as st\n",
    "import stmpy.driftcorr as dfc\n",
    "\n",
    "%pylab inline\n",
    "\n",
    "# pylab.style.use('Thin')"
   ]
  },
  {
   "cell_type": "markdown",
   "metadata": {},
   "source": [
    "# Loop through all the topos in the same folder"
   ]
  },
  {
   "cell_type": "code",
   "execution_count": null,
   "metadata": {},
   "outputs": [],
   "source": [
    "# Load all the files ending with \".sxm\"\n",
    "\n",
    "import os\n",
    "\n",
    "d = []\n",
    "files = []\n",
    "for ix in os.listdir():\n",
    "    if ix.endswith('.sxm'):\n",
    "        files.append(ix[:-4])\n",
    "        d.append(stmpy.load(ix))"
   ]
  },
  {
   "cell_type": "code",
   "execution_count": null,
   "metadata": {},
   "outputs": [],
   "source": [
    "# automatically create useful attributes to store information of the topos\n",
    "\n",
    "for ix in d:\n",
    "    try:\n",
    "        ix.z = st.lineSubtract(ix.Z, 2, maskon=True)\n",
    "        ix.x = float(ix.header['scan_range'][0])\n",
    "        ix.y = float(ix.header['scan_range'][1])\n",
    "        ix.bias = float(ix.header['bias'])*1e3\n",
    "        ix.current = float(ix.header['current>current (a)'])*1e12\n",
    "    except TypeError:\n",
    "        ix.z = st.lineSubtract(ix.Z, 2, maskon=False)\n",
    "        ix.x = float(ix.header['scan_range'][0])\n",
    "        ix.y = float(ix.header['scan_range'][1])\n",
    "        ix.bias = float(ix.header['bias'])*1e3\n",
    "        ix.current = float(ix.header['current>current (a)'])*1e12"
   ]
  },
  {
   "cell_type": "code",
   "execution_count": null,
   "metadata": {},
   "outputs": [],
   "source": [
    "# Display all the topos with index labelled\n",
    "\n",
    "for i, ix in enumerate(d):\n",
    "    c = mean(ix.z)\n",
    "    s = std(ix.z)\n",
    "    figure()\n",
    "    imshow(ix.z, extent=[0, ix.x, 0, ix.y], cmap=stmpy.cm.blue2, clim=[c-3*s, c+3*s])\n",
    "    gca().axes.get_xaxis().set_visible(False)\n",
    "    gca().axes.get_yaxis().set_visible(False)\n",
    "    gca().set_frame_on(False)\n",
    "    gca().set_aspect(1)\n",
    "    stmpy.image.add_label('{}'.format(i), ax=gca())\n",
    "#     savefig('{} at {} mV {} pA.png'.format(files[i], int(ix.bias), int(ix.current)), \n",
    "#             dpi=400, bbox_inches='tight', pad_inches=0)"
   ]
  },
  {
   "cell_type": "markdown",
   "metadata": {},
   "source": [
    "# Drift correct and take linecut for a 3ds file"
   ]
  },
  {
   "cell_type": "code",
   "execution_count": null,
   "metadata": {},
   "outputs": [],
   "source": [
    "# Load the data\n",
    "d = stmpy.load('Grid Spectroscopy001.3ds')"
   ]
  },
  {
   "cell_type": "code",
   "execution_count": null,
   "metadata": {},
   "outputs": [],
   "source": [
    "# Remove background from topo\n",
    "\n",
    "z = st.lineSubtract(d.Z, 1)\n",
    "\n",
    "# If the topo is too cappy, the averaged LIY can be used for drift correction\n",
    "# z = mean(d.LIY, axis=0)"
   ]
  },
  {
   "cell_type": "markdown",
   "metadata": {},
   "source": [
    "## Drift correct the dos map"
   ]
  },
  {
   "cell_type": "code",
   "execution_count": null,
   "metadata": {},
   "outputs": [],
   "source": [
    "# Find the dominant Bragg peaks\n",
    "\n",
    "bp1 = dfc.findBraggs(z, r=0.5, w=0.01, show=True)"
   ]
  },
  {
   "cell_type": "code",
   "execution_count": null,
   "metadata": {},
   "outputs": [],
   "source": [
    "# Optional: if your piezo calibration is off, you can generate correct Bragg peaks first\n",
    "\n",
    "# bpc = dfc.generate_bp(t.z, bp=bp1, angle=pi/2, orient=pi/4)\n",
    "# bpc"
   ]
  },
  {
   "cell_type": "code",
   "execution_count": null,
   "metadata": {},
   "outputs": [],
   "source": [
    "# Find the drifting field from topo\n",
    "z_c, p1 = dfc.find_drift_parameter(z, bp_c=bp1, sigma=10, show=True)"
   ]
  },
  {
   "cell_type": "code",
   "execution_count": null,
   "metadata": {},
   "outputs": [],
   "source": [
    "# Apply the drifting field to LIY layers\n",
    "\n",
    "d.liy_c = dfc.apply_drift_parameter(d.LIY, p=p1)"
   ]
  },
  {
   "cell_type": "code",
   "execution_count": null,
   "metadata": {},
   "outputs": [],
   "source": []
  },
  {
   "cell_type": "markdown",
   "metadata": {},
   "source": [
    "## Take linecuts"
   ]
  },
  {
   "cell_type": "code",
   "execution_count": null,
   "metadata": {},
   "outputs": [],
   "source": [
    "# take linecut -- also works for non-square dataset\n",
    "\n",
    "to_cut = d.fft_c\n",
    "# Here are the angles for the linecuts\n",
    "angles = []\n",
    "offset = 82 # first angle of linecut in the unit of degrees\n",
    "width = 7 # width to average the linecut\n",
    "\n",
    "to_plot = np.mean(to_cut, axis=0)\n",
    "H, W = np.shape(to_plot)\n",
    "\n",
    "# This is the length of the linecut\n",
    "L = W // 2 * 1\n",
    "center = (np.array(np.shape(to_plot))[::-1]-1) // 2\n",
    "\n",
    "for i in range(4):\n",
    "    angles.append(offset/180*np.pi+i*np.pi/4)\n",
    "\n",
    "colors = stmpy.cm.rainbow(np.linspace(0, 1, len(angles)))\n",
    "\n",
    "c = np.mean(to_plot)\n",
    "s = np.std(to_plot)\n",
    "\n",
    "figure(figsize=[4,4])\n",
    "imshow(to_plot, clim=[0, c+3*s], cmap=stmpy.cm.gray_r)\n",
    "\n",
    "rs = []\n",
    "cuts = []\n",
    "\n",
    "for i in range(len(angles)):\n",
    "    p0 = center + np.array([L * cos(angles[i]), L * sin(angles[i]) * H / W])\n",
    "    p1 = center - np.array([L * cos(angles[i]), L * sin(angles[i]) * H / W])\n",
    "    \n",
    "    r, cut = stmpy.tools.linecut(d.fft_c, p0=p0, p1=p1, width=width, show=True, ax=gca(), color=colors[i])\n",
    "    rs.append(r)\n",
    "    cuts.append(cut)"
   ]
  },
  {
   "cell_type": "code",
   "execution_count": null,
   "metadata": {},
   "outputs": [],
   "source": [
    "# Calibrate the qscale of the linecut -- to be added"
   ]
  },
  {
   "cell_type": "code",
   "execution_count": null,
   "metadata": {},
   "outputs": [],
   "source": [
    "# Display the linecuts\n",
    "\n",
    "to_plot = cuts[0]\n",
    "qscale = 1.2\n",
    "thres = 3 # threshold for color limit\n",
    "en0 = np.min(d.en)\n",
    "en1 = np.max(d.en)\n",
    "\n",
    "extents = [-qscale, qscale, en0, en1]\n",
    "\n",
    "# # normalize by energy \n",
    "# for i in range(len(to_plot)):\n",
    "#     to_plot[i] /= mean(to_plot[i])\n",
    "\n",
    "# # normalize by momentum:\n",
    "# for i in range(shape(to_plot)[-1]):\n",
    "#     to_plot[:, i] /= mean(to_plot[:, i])\n",
    "\n",
    "c = mean(to_plot)\n",
    "s = std(to_plot)\n",
    "figure()\n",
    "imshow(to_plot, extent=extents, clim=[0, c+thres*s], cmap=stmpy.cm.gray_r)\n",
    "# savefig('blue.png', dpi=400, bbox_inches='tight', pad_inches=0)"
   ]
  }
 ],
 "metadata": {
  "kernelspec": {
   "display_name": "Python 3",
   "language": "python",
   "name": "python3"
  },
  "language_info": {
   "codemirror_mode": {
    "name": "ipython",
    "version": 3
   },
   "file_extension": ".py",
   "mimetype": "text/x-python",
   "name": "python",
   "nbconvert_exporter": "python",
   "pygments_lexer": "ipython3",
   "version": "3.8.7"
  },
  "toc": {
   "base_numbering": 1,
   "nav_menu": {},
   "number_sections": true,
   "sideBar": true,
   "skip_h1_title": false,
   "title_cell": "Table of Contents",
   "title_sidebar": "Contents",
   "toc_cell": false,
   "toc_position": {},
   "toc_section_display": true,
   "toc_window_display": false
  }
 },
 "nbformat": 4,
 "nbformat_minor": 4
}
